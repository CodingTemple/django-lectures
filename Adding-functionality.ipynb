{
 "cells": [
  {
   "cell_type": "markdown",
   "metadata": {},
   "source": [
    "# Adding functionality to our pollingplace"
   ]
  },
  {
   "cell_type": "markdown",
   "metadata": {},
   "source": [
    "So, let's start today by adding some more robustness to our app. For starters, we will be updating detail.html. The code below is what we will need to get started"
   ]
  },
  {
   "cell_type": "code",
   "execution_count": null,
   "metadata": {
    "collapsed": true
   },
   "outputs": [],
   "source": [
    "<h1>{{ question.question_text }}</h1>\n",
    "\n",
    "{% if error_message %}<p><strong>{{ error_message }}</strong></p>{% endif %}\n",
    "\n",
    "<form action=\"{% url 'polls:vote' question.id %}\" method=\"post\">\n",
    "{% csrf_token %}\n",
    "{% for choice in question.choice_set.all %}\n",
    "    <input type=\"radio\" name=\"choice\" id=\"choice{{ forloop.counter }}\" value=\"{{ choice.id }}\" />\n",
    "    <label for=\"choice{{ forloop.counter }}\">{{ choice.choice_text }}</label><br />\n",
    "{% endfor %}\n",
    "<input type=\"submit\" value=\"Vote\" />\n",
    "</form>"
   ]
  },
  {
   "cell_type": "markdown",
   "metadata": {},
   "source": [
    "## Let's take a closer look at the code we just wrote:\n",
    "\n",
    "- Our form displays a radio button for each question choice we currently have in our database. BTW, if you haven't added the choices option to your admin panel...this is the perfect time to do so. The name of each of our radio buttons is called \"choice\".  This means, when somebody selects one of the radio buttons and submits the form, it’ll send the POST data choice=# where # is the ID of the selected choice. This is the basic concept of HTML forms. The id attached to each radio button comes from our for loop counter which will append a number to the button depending on how many choices we have (1,2,3...n). The value of the button comes directly from our database and is what will be used to display the contents.\n",
    "\n",
    "- We set the form’s action to {% url 'polls:vote' question.id %}, and we set method=\"post\". Using method=\"post\" (as opposed to method=\"get\") is very important, because the act of submitting this form will alter data server-side. Whenever you create a form that alters data server-side, use method=\"post\". This tip isn’t specific to Django; it’s just good Web development practice.\n",
    "\n",
    "- forloop.counter indicates how many times the for tag has gone through its loop\n",
    "\n",
    "- Since we’re creating a POST form (which can have the effect of modifying data), we need to worry about Cross Site Request Forgeries. Thankfully, you don’t have to worry too hard, because Django comes with a very easy-to-use system for protecting against it. In short, all POST forms that are targeted at internal URLs should use the {% csrf_token %} template tag."
   ]
  },
  {
   "cell_type": "markdown",
   "metadata": {},
   "source": [
    "### Our next objective is to enable the right to vote!!\n",
    "\n",
    "Let's take care of this by heading back to our views.py file inside of pollingplace/\n",
    "\n",
    "Once there, you will replace the current vote function with this code:"
   ]
  },
  {
   "cell_type": "code",
   "execution_count": null,
   "metadata": {
    "collapsed": true
   },
   "outputs": [],
   "source": [
    "def vote(request, question_id):\n",
    "    question = get_object_or_404(Question,pk=question_id)\n",
    "    try:\n",
    "        seleted_choice = question.choice_set.get(pk=request.POST['choice'])\n",
    "    except (KeyError, Choice.DoesNotExist):\n",
    "        #Redisplay the question voting form.\n",
    "        return render(request, 'polls/detail.html', {\n",
    "            'question': question,\n",
    "            'error_message':\"You didn't select a choice\",\n",
    "        })\n",
    "    else:\n",
    "        seleted_choice.votes += 1\n",
    "        seleted_choice.save()\n",
    "\n",
    "        # Always return an HttpResponseRedirect after successfully dealing with POST data.\n",
    "        # This prevents data from being posted twice if a user hits the back button\n",
    "\n",
    "        return HttpResponseRedirect(reverse('polls:results', args=(question.id,)))"
   ]
  },
  {
   "cell_type": "markdown",
   "metadata": {},
   "source": [
    "## Breaking it down..\n",
    "\n",
    "- request.POST is a dictionary-like object that lets you access submitted data by key name. In this case, request.POST['choice'] returns the ID of the selected choice, as a string. request.POST values are always strings.\n",
    "\n",
    "- Note that Django also provides request.GET for accessing GET data in the same way – but we’re explicitly using request.POST in our code, to ensure that data is only altered via a POST call.\n",
    "\n",
    "- request.POST['choice'] will raise KeyError if choice wasn’t provided in POST data. The above code checks for KeyError and redisplays the question form with an error message if choice isn’t given.\n",
    "    \n",
    "    - Basically, if we hit the vote button without selecting a choice...we will get an error.\n",
    "\n",
    "- After incrementing the choice count, the code returns an HttpResponseRedirect rather than a normal HttpResponse. HttpResponseRedirect takes a single argument: the URL to which the user will be redirected (see the following point for how we construct the URL in this case).\n",
    "\n",
    "- As the Python comment above points out, you should always return an HttpResponseRedirect after successfully dealing with POST data. This tip isn’t specific to Django; it’s just good Web development practice.\n",
    "\n",
    "- We are using the reverse() function in the HttpResponseRedirect constructor in this example. This function helps avoid having to hardcode a URL in the view function. It is given the name of the view that we want to pass control to and the variable portion of the URL pattern that points to that view. In this case, using the URLconf we set up in Adding-to-pollingplace-app.ipynb, this reverse() call will return a string like\n",
    "\n",
    "    '/polls/3/results/'\n",
    "    \n",
    " where the 3 is the value of question.id. This redirected URL will then call the 'results' view to display the final page."
   ]
  },
  {
   "cell_type": "markdown",
   "metadata": {},
   "source": [
    "### Next we need to update the results function to return relavent results when a user wants to see the results of a question."
   ]
  },
  {
   "cell_type": "code",
   "execution_count": null,
   "metadata": {
    "collapsed": true
   },
   "outputs": [],
   "source": [
    "def results(request, question_id):\n",
    "    question = get_object_or_404(Question, pk=question_id)\n",
    "    return render(request, 'polls/results.html', {'question': question})"
   ]
  },
  {
   "cell_type": "markdown",
   "metadata": {},
   "source": [
    "### And now we create the results html\n",
    "\n",
    "This file is being created in:\n",
    "\n",
    "    pollingplace/\n",
    "        templates/\n",
    "            polls/\n",
    "                results.html"
   ]
  },
  {
   "cell_type": "code",
   "execution_count": null,
   "metadata": {
    "collapsed": true
   },
   "outputs": [],
   "source": [
    "<!DOCTYPE html>\n",
    "<html lang=\"en\">\n",
    "<head>\n",
    "    <meta charset=\"UTF-8\">\n",
    "    <title>Results</title>\n",
    "</head>\n",
    "<body>\n",
    "    <h1>{{ question.question_text }}</h1>\n",
    "\n",
    "<ul>\n",
    "{% for choice in question.choice_set.all %}\n",
    "    <li>{{ choice.choice_text }} -- {{ choice.votes }} vote{{ choice.votes|pluralize }}</li>\n",
    "{% endfor %}\n",
    "</ul>\n",
    "\n",
    "<a href=\"{% url 'polls:detail' question.id %}\">Vote again?</a>\n",
    "</body>\n",
    "</html>"
   ]
  },
  {
   "cell_type": "markdown",
   "metadata": {},
   "source": [
    "We should now have a working polling app, which admittedly looks very plain...but the main goal here was to get a working app. Mission accomplished!!!\n",
    "\n",
    "Now, let's make our code look a bit better! We'll do that by using Django's generic views and URLs\n",
    "\n",
    "Inside of views.py, update your code from what it currently is (a bunch of functions spread everywhere) to a more class based object-oriented approach."
   ]
  },
  {
   "cell_type": "code",
   "execution_count": null,
   "metadata": {
    "collapsed": true
   },
   "outputs": [],
   "source": [
    "# Same imports from before but add:\n",
    "\n",
    "from django.views import generic\n",
    "\n",
    "#same models import\n",
    "\n",
    "class IndexView(generic.ListView):\n",
    "    template_name = 'polls/index.html'\n",
    "    context_object_name = 'latest_question_list'\n",
    "\n",
    "    def get_queryset(self):\n",
    "        \"\"\"Return the last five published questions.\"\"\"\n",
    "        return Question.objects.order_by('-pub_date')[:5]\n",
    "\n",
    "\n",
    "class DetailView(generic.DetailView):\n",
    "    model = Question\n",
    "    template_name = 'polls/detail.html'\n",
    "\n",
    "\n",
    "class ResultsView(generic.DetailView):\n",
    "    model = Question\n",
    "    template_name = 'polls/results.html'\n",
    "\n",
    "def vote(request, question_id):\n",
    "    question = get_object_or_404(Question,pk=question_id)\n",
    "    try:\n",
    "        seleted_choice = question.choice_set.get(pk=request.POST['choice'])\n",
    "    except (KeyError, Choice.DoesNotExist):\n",
    "        #Redisplay the question voting form.\n",
    "        return render(request, 'polls/detail.html', {\n",
    "            'question': question,\n",
    "            'error_message':\"You didn't select a choice\",\n",
    "        })\n",
    "    else:\n",
    "        seleted_choice.votes += 1\n",
    "        seleted_choice.save()\n",
    "\n",
    "        # Always return an HttpResponseRedirect after successfully dealing with POST data.\n",
    "        # This prevents data from being posted twice if a user hits the back button\n",
    "\n",
    "        return HttpResponseRedirect(reverse('polls:results', args=(question.id,)))"
   ]
  },
  {
   "cell_type": "markdown",
   "metadata": {},
   "source": [
    "**urls.py update**"
   ]
  },
  {
   "cell_type": "code",
   "execution_count": null,
   "metadata": {
    "collapsed": true
   },
   "outputs": [],
   "source": [
    "app_name = 'polls'\n",
    "urlpatterns = [\n",
    "    url(r'^$', views.IndexView.as_view(), name='index'),\n",
    "    url(r'^(?P<pk>[0-9]+)/$', views.DetailView.as_view(), name='detail'),\n",
    "    url(r'^(?P<pk>[0-9]+)/results/$', views.ResultsView.as_view(), name='results'),\n",
    "    url(r'^(?P<question_id>[0-9]+)/vote/$', views.vote, name='vote'),\n",
    "]"
   ]
  }
 ],
 "metadata": {
  "kernelspec": {
   "display_name": "Python 3",
   "language": "python",
   "name": "python3"
  },
  "language_info": {
   "codemirror_mode": {
    "name": "ipython",
    "version": 3.0
   },
   "file_extension": ".py",
   "mimetype": "text/x-python",
   "name": "python",
   "nbconvert_exporter": "python",
   "pygments_lexer": "ipython3",
   "version": "3.6.0"
  }
 },
 "nbformat": 4,
 "nbformat_minor": 0
}
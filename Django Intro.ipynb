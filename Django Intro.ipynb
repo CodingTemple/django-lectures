{
 "cells": [
  {
   "cell_type": "markdown",
   "metadata": {},
   "source": [
    "# Django Intro"
   ]
  },
  {
   "cell_type": "markdown",
   "metadata": {},
   "source": [
    "\"Django is a high-level Python Web framework that encourages rapid development and clean, pragmatic design. Built by experienced developers, it takes care of much of the hassle of Web development, so you can focus on writing your app without needing to reinvent the wheel. It’s free and open source.\"\n",
    "\n",
    "--Excerpt from the djangoproject website"
   ]
  },
  {
   "cell_type": "markdown",
   "metadata": {},
   "source": [
    "## Getting started"
   ]
  },
  {
   "cell_type": "markdown",
   "metadata": {},
   "source": [
    "You will need to install a few modules to get started with django:\n",
    "\n",
    "- django\n",
    "- rest-framework\n",
    "- pillow (python image package)\n",
    "- django-filter\n",
    "\n",
    "** We may add packages down the line...but this should be a good starting point **\n",
    "\n",
    "Before you install the packages remember to create a conda environment that we will use for development. We will call this environment: **\"django-polls\"**\n",
    "\n",
    "To add the above packages you will need to PIP install them:\n",
    "\n",
    "`pip install django`"
   ]
  },
  {
   "cell_type": "markdown",
   "metadata": {},
   "source": [
    "### Alternative install"
   ]
  },
  {
   "cell_type": "markdown",
   "metadata": {},
   "source": [
    "I've gone ahead and created a conda environment that should be easier to work with. Download it from slack."
   ]
  },
  {
   "cell_type": "markdown",
   "metadata": {},
   "source": [
    "## Topics to cover this week"
   ]
  },
  {
   "cell_type": "markdown",
   "metadata": {},
   "source": [
    "- Django models and databases\n",
    "- HTTP requests\n",
    "- Django forms\n",
    "- Templates in django "
   ]
  }
 ],
 "metadata": {
  "kernelspec": {
   "display_name": "Python 3",
   "language": "python",
   "name": "python3"
  },
  "language_info": {
   "codemirror_mode": {
    "name": "ipython",
    "version": 3
   },
   "file_extension": ".py",
   "mimetype": "text/x-python",
   "name": "python",
   "nbconvert_exporter": "python",
   "pygments_lexer": "ipython3",
   "version": "3.6.0"
  }
 },
 "nbformat": 4,
 "nbformat_minor": 2
}

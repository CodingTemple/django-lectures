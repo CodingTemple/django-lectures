{
 "cells": [
  {
   "cell_type": "markdown",
   "metadata": {},
   "source": [
    "# Django Forms and ModelForms"
   ]
  },
  {
   "cell_type": "markdown",
   "metadata": {},
   "source": [
    "Django Forms are pretty handy and something that you will use quite often. The nice thing about them is that it pretty much takes care of all of the HTML for you after you create the form and when you start using it in your template/HTML.\n",
    "\n",
    "### First things first...\n",
    "\n",
    "In order to start working with django forms, you have to create a file name forms.py. Once you have the file created, you will then need to proceed to import the things you will need.\n",
    "\n",
    "Here's a quick simple example:"
   ]
  },
  {
   "cell_type": "code",
   "execution_count": null,
   "metadata": {
    "collapsed": true
   },
   "outputs": [],
   "source": [
    "from django import forms\n",
    "\n",
    "class FormName(forms.Form):\n",
    "    name = forms.CharField(validators=[check_for_z])\n",
    "    email = forms.EmailField()\n",
    "    text = forms.CharField(widget = forms.Textarea)\n",
    "    botcatcher = forms.CharField(required = False, widget=forms.HiddenInput,validators = [validators.MaxLengthValidator(0)])"
   ]
  },
  {
   "cell_type": "markdown",
   "metadata": {},
   "source": [
    "You may have noticed that this looks really similar to the syntactical structure of a model. This should hopefully help get your mind wrapped around this concept. Now, since we have a form we have to attach it to a view...right? Here's how:"
   ]
  },
  {
   "cell_type": "code",
   "execution_count": null,
   "metadata": {
    "collapsed": true
   },
   "outputs": [],
   "source": [
    "#Inside of views.py\n",
    "\n",
    "#Import our forms\n",
    "\n",
    "#from . import _name_of_app/FormName\n",
    "\n",
    "def form_name_view(request):\n",
    "    form = forms.FormName()\n",
    "    if request.method == 'POST':\n",
    "        form = forms.FormName(request.POST)\n",
    "\n",
    "        if form.is_valid():\n",
    "            print('VALIDATION SUCCESS!!!')\n",
    "            print(\"Name:\"+ form.cleaned_data['name'])\n",
    "            print('Email:' + form.cleaned_data['email'])\n",
    "            print('Email:' + form.cleaned_data['text'])\n",
    "    return render(request,'prework_app/form_page.html',{'form': form})"
   ]
  },
  {
   "cell_type": "markdown",
   "metadata": {},
   "source": [
    "This form and view are an example of a form you may need to use in a project down the line. This form allows you to validate (with a function) the data the user passes to your form.\n",
    "\n",
    "** Note: Something I want to point out here is the hidden input field called botcatcher. This field will be hidden from human users, but will be seen by a bot trying to access your site. This method of hiding input fields is something known as honeypot. Basically, a bot will always fill out every field it avaialble, while a human user will only fill out what can be seen. Therefore, what you want to check for is if the hidden field has any input, if it does you may want to stop the submitting of the form and/or keep a log of how many times this happens.**"
   ]
  }
 ],
 "metadata": {
  "kernelspec": {
   "display_name": "Python 3",
   "language": "python",
   "name": "python3"
  },
  "language_info": {
   "codemirror_mode": {
    "name": "ipython",
    "version": 3
   },
   "file_extension": ".py",
   "mimetype": "text/x-python",
   "name": "python",
   "nbconvert_exporter": "python",
   "pygments_lexer": "ipython3",
   "version": "3.6.0"
  }
 },
 "nbformat": 4,
 "nbformat_minor": 2
}

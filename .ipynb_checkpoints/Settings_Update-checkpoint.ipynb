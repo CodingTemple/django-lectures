{
 "cells": [
  {
   "cell_type": "markdown",
   "metadata": {},
   "source": [
    "# Settings.py Config"
   ]
  },
  {
   "cell_type": "markdown",
   "metadata": {},
   "source": [
    "There are some extra features that we can take advantage of inside of our django settings.py file. A large majority of what we will talk about here will be pertaining to the file system path and making sure that everything still works on any machine.\n",
    "\n",
    "To start we will discuss the need to create certain files for each project, and why we should specify a direct path to these files...but not hard code them. Here's what I mean.\n",
    "\n",
    "Suppose you create your project on a mac/linux machine and you want someone else to have access to it on a Windows machine. There are certain things specific to file paths in different OS systems that will throw your project off. \n",
    "\n",
    "**So how do we fix it??**\n",
    "\n",
    "Glad you asked :) Let's take a look at our settings.py file"
   ]
  },
  {
   "cell_type": "code",
   "execution_count": null,
   "metadata": {
    "collapsed": true
   },
   "outputs": [],
   "source": [
    "'''To start you should see a line that looks similar to this'''\n",
    "\n",
    "#BASE_DIR = os.path.dirname(os.path.dirname(os.path.abspath(__file__)))\n",
    "\n",
    "\n",
    "\"\"\"We will want to create a few files that will prove to be helpful in every django project...or at the very least...the majority of projects.\"\"\"\n",
    "\n",
    "#TEMPLATE_DIR = os.path.join(BASE_DIR,'templates') polls/templates/index.html\n",
    "#STATIC_DIR = os.path.join(BASE_DIR,'static')\n",
    "#MEDIA_DIR = os.path.join(BASE_DIR,'media')"
   ]
  },
  {
   "cell_type": "markdown",
   "metadata": {},
   "source": [
    "What we're doing here is telling Django that we will be creating new folders/directories that we want to keep track of. Doing it this way though keeps us from having to hard code these file paths on each and every machine our project will run on for example, a server.\n",
    "\n",
    "Now for our STATIC and MEDIA_DIR we need to create a place that these files will live when they are created. So, scroll down to the bottom of the settings.py file. Here you will enter some more configuration, although you really don't have to place it at the bottom...it's a good idea to so that you can keep track of the new directories you have added manually."
   ]
  },
  {
   "cell_type": "code",
   "execution_count": null,
   "metadata": {
    "collapsed": true
   },
   "outputs": [],
   "source": [
    "# Next go ahead and add these configuration lines for settings.py\n",
    "\n",
    "STATICFILES_DIRS = [\n",
    "    STATIC_DIR,\n",
    "]\n",
    "\n",
    "MEDIA_ROOT = MEDIA_DIR\n",
    "MEDIA_URLb = '/media/'"
   ]
  },
  {
   "cell_type": "markdown",
   "metadata": {},
   "source": [
    "The static files list will help you when you begin templating in django. Basically, if everything that is static (css,js files,some images) is placed in one central static file when we call on the staticfiles in a template tag we will get them each time without having to write the entire url."
   ]
  },
  {
   "cell_type": "markdown",
   "metadata": {},
   "source": [
    "The last thing to talk about here is password encryption. Django has some pretty good built in libraries that handle password encryption pretty well. But we can also add to this security by adding some modules.\n",
    "\n",
    "\n",
    "PASSWORD_HASHERS = [\n",
    "    'django.contrib.auth.hashers.Argon2PasswordHasher',\n",
    "    'django.contrib.auth.hashers.BCryptSHA256PasswordHasher',\n",
    "    'django.contrib.auth.hashers.BCryptPasswordHasher',\n",
    "    'django.contrib.auth.hashers.PBKDF2PasswordHasher',\n",
    "    'django.contrib.auth.hashers.PBKDF2SHA1PasswordHasher',\n",
    "]"
   ]
  }
 ],
 "metadata": {
  "kernelspec": {
   "display_name": "Python 3",
   "language": "python",
   "name": "python3"
  },
  "language_info": {
   "codemirror_mode": {
    "name": "ipython",
    "version": 3
   },
   "file_extension": ".py",
   "mimetype": "text/x-python",
   "name": "python",
   "nbconvert_exporter": "python",
   "pygments_lexer": "ipython3",
   "version": "3.6.0"
  }
 },
 "nbformat": 4,
 "nbformat_minor": 2
}

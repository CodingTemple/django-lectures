{
 "cells": [
  {
   "cell_type": "markdown",
   "metadata": {},
   "source": [
    "# Django Intro"
   ]
  },
  {
   "cell_type": "markdown",
   "metadata": {},
   "source": [
    "\"Django is a high-level Python Web framework that encourages rapid development and clean, pragmatic design. Built by experienced developers, it takes care of much of the hassle of Web development, so you can focus on writing your app without needing to reinvent the wheel. It’s free and open source.\"\n",
    "\n",
    "--Excerpt from the djangoproject website"
   ]
  },
  {
   "cell_type": "markdown",
   "metadata": {},
   "source": [
    "## Getting started"
   ]
  },
  {
   "cell_type": "markdown",
   "metadata": {},
   "source": [
    "You will need to install a few modules to get started with django:\n",
    "\n",
    "- django\n",
    "- rest-framework\n",
    "- pillow (python image package)\n",
    "- django-filter\n",
    "\n",
    "** We may add packages down the line...but this should be a good starting point **\n",
    "\n",
    "Before you install the packages remember to create a conda environment that we will use for development. We will call this environment: **\"django-polls\"**\n",
    "\n",
    "To add the above packages you will need to PIP install them:\n",
    "\n",
    "`pip install django`"
   ]
  },
  {
   "cell_type": "markdown",
   "metadata": {},
   "source": [
    "### Alternative install"
   ]
  },
  {
   "cell_type": "markdown",
   "metadata": {},
   "source": [
    "I've gone ahead and created a conda environment that should be easier to work with. Download it from slack."
   ]
  },
  {
   "cell_type": "markdown",
   "metadata": {},
   "source": [
    "## Topics to cover this week"
   ]
  },
  {
   "cell_type": "markdown",
   "metadata": {},
   "source": [
    "- Django models and databases\n",
    "- HTTP requests\n",
    "- Django forms\n",
    "- Templates in django "
   ]
  },
  {
   "cell_type": "markdown",
   "metadata": {},
   "source": [
    "### Starting a Django Project"
   ]
  },
  {
   "cell_type": "markdown",
   "metadata": {},
   "source": [
    "A django project is made up of a set of files(or directories)which communicate with each other. A common (basic) file structure for a django project may look like this for example:\n",
    "\n",
    "    mysite/\n",
    "    manage.py\n",
    "    mysite/\n",
    "        __init__.py\n",
    "        settings.py\n",
    "        urls.py\n",
    "        wsgi.py\n",
    "        \n",
    "To get started with our example app (Polls) we will start by using the command line django tool that should have come installed with your environment.\n",
    "\n",
    "#### This is the command that you will place inside of your command prompt/terminal\n",
    "        django-admin startproject polls\n",
    "        \n",
    "Our file directory should now have the following structure:\n",
    "\n",
    "    polls/\n",
    "    manage.py\n",
    "    polls/\n",
    "        __init__.py\n",
    "        settings.py\n",
    "        urls.py\n",
    "        wsgi.py # The meaning of this acronym is Web Server Gateway Interface\n",
    "        \n",
    "So now, when we can test our newly created app by going back to the command prompt,changing our directory to `polls` and running:\n",
    "\n",
    "    python manage.py runserver\n",
    "    \n",
    "While the server is running, go to the browser and navigate to the localhost URL:\n",
    "\n",
    "    localhost:8000\n",
    "    \n",
    "\n",
    "    "
   ]
  },
  {
   "cell_type": "markdown",
   "metadata": {},
   "source": [
    "### Migrations"
   ]
  },
  {
   "cell_type": "markdown",
   "metadata": {},
   "source": [
    "GREAT!!! We have a working server now.\n",
    "\n",
    "You may have seen a few warnings when running the server for the first time. This is showing up because we have built in django models that come with every newly created app. Those models include:\n",
    "\n",
    "    auth, contenttypes, and  sessions.\n",
    "    \n",
    "Let's create our first migration shall we...?\n",
    "\n",
    "To do this we will use the command prompt again, utilizing the Django command tool `manage.py`\n",
    "\n",
    "    python manage.py migrate\n",
    "    \n",
    "    \n",
    "When this runs successfully, you will see the following output:\n",
    "\n",
    "    Operations to perform:\n",
    "      Apply all migrations: admin, auth, contenttypes, sessions\n",
    "      Running migrations:\n",
    "      Applying contenttypes.0001_initial... OK\n",
    "      Applying auth.0001_initial... OK\n",
    "      Applying admin.0001_initial... OK\n",
    "      Applying admin.0002_logentry_remove_auto_add... OK\n",
    "      Applying contenttypes.0002_remove_content_type_name... OK\n",
    "      Applying auth.0002_alter_permission_name_max_length... OK\n",
    "      Applying auth.0003_alter_user_email_max_length... OK\n",
    "      Applying auth.0004_alter_user_username_opts... OK\n",
    "      Applying auth.0005_alter_user_last_login_null... OK\n",
    "      Applying auth.0006_require_contenttypes_0002... OK\n",
    "      Applying auth.0007_alter_validators_add_error_messages... OK\n",
    "      Applying auth.0008_alter_user_username_max_length... OK\n",
    "      Applying sessions.0001_initial... OK\n",
    "      \n",
    "Now, you may have noticed that this ran successfully...but we never connected to a PostGreSQL database. So how is this possible?\n",
    "\n",
    "This happens because by default Django ships with a connection to SQLite and creates a database for your when you do a first migration.\n",
    "\n",
    "But we want to connect to PostGreSQL as this is where we will do our development. Here's how we do that:\n",
    "\n",
    "In `settings.py` we need to navigate to the database portion of the file and add these lines:\n",
    "           \n",
    "        'ENGINE': 'django.db.backends.postgresql',\n",
    "        'NAME': 'polls',\n",
    "        'PASSWORD': 'Nina3689',\n",
    "        'USER': 'postgres',\n",
    "        \n",
    " **Make sure that your PGAdmin is running and the Database `polls` has been created**"
   ]
  }
 ],
 "metadata": {
  "kernelspec": {
   "display_name": "Python 3",
   "language": "python",
   "name": "python3"
  },
  "language_info": {
   "codemirror_mode": {
    "name": "ipython",
    "version": 3
   },
   "file_extension": ".py",
   "mimetype": "text/x-python",
   "name": "python",
   "nbconvert_exporter": "python",
   "pygments_lexer": "ipython3",
   "version": "3.6.0"
  }
 },
 "nbformat": 4,
 "nbformat_minor": 2
}

{
 "cells": [
  {
   "cell_type": "markdown",
   "metadata": {},
   "source": [
    "# Django Intro - Views & Http Responses"
   ]
  },
  {
   "cell_type": "markdown",
   "metadata": {},
   "source": [
    "So, to pick up where we left off, we are going to delete the models module we created for practicing models and mirgrating them. We will then create a new module with the django command line interface(CLI) \n",
    "\n",
    "The app that we are going to create is called `pollingplace`. For now it will only have one simple view that will display text to the screen when the URL route is hit. \n",
    "\n",
    "SO, here's what we need to do first:\n",
    "\n",
    "    - python manage.py startapp pollingplace #command prompt line\n",
    "    - Add the following file\n",
    "        pollingplace/\n",
    "            urls.py\n",
    "            \n",
    " Add these lines of code to `views.py`:\n",
    " \n",
    "     from django.shortcuts import render\n",
    "     from django.http import HttpResponse\n",
    "\n",
    "        def index(request):\n",
    "            return HttpResponse(\"Hello, world. It's Joel!!! You're at the polling place!!\")\n",
    "            \n",
    "            \n",
    "Inside of `pollingplace/urls.py`:\n",
    "\n",
    "    # Custom imports\n",
    "\n",
    "    from django.conf.urls import url\n",
    "    from . import views\n",
    "\n",
    "\n",
    "    # Create your views here.\n",
    "    urlpatterns = [\n",
    "        url(r'^$', views.index, name='index'),\n",
    "        ]\n",
    "\n",
    "Inside of `polls/urls.py` add the following line(s):\n",
    "\n",
    "    #Django default imports\n",
    "    from django.conf.urls import include,url\n",
    "    from django.contrib import admin\n",
    "\n",
    "    urlpatterns = [\n",
    "        url(r'^polls/', include('pollingplace.urls')),\n",
    "        url(r'^admin/', admin.site.urls),\n",
    "\n",
    "    ]\n"
   ]
  },
  {
   "cell_type": "markdown",
   "metadata": {},
   "source": [
    "#### Remember to add `pollingplace` to your INSTALLED_APPS in the `settings.py` file"
   ]
  },
  {
   "cell_type": "markdown",
   "metadata": {},
   "source": [
    "Once you have everything in it's respective places, go ahead and run your server again with the `python manage.py runserver` command"
   ]
  },
  {
   "cell_type": "markdown",
   "metadata": {},
   "source": [
    "BRILLIANT!! Our first view works!! SO, let's start creating a model for this app."
   ]
  },
  {
   "cell_type": "code",
   "execution_count": null,
   "metadata": {
    "collapsed": true
   },
   "outputs": [],
   "source": [
    "# Head over to pollingplace/models.py\n",
    "# We need to add the following lines of code for our models\n",
    "\n",
    "from django.db import models\n",
    "\n",
    "#Create your models underneath this import\n",
    "\n",
    "class Question(models.Model):\n",
    "    question_text = models.CharField(max_length=200)\n",
    "    pub_date = models.DateTimeField(verbose_name='date published')\n",
    "    \n",
    "class Choice(models.Model):\n",
    "    question = models.ForeignKey(Question, on_delete=models.CASCADE)\n",
    "    choice_text = models.CharField(max_length=200)\n",
    "    votes = models.IntegerField(default = 0)"
   ]
  },
  {
   "cell_type": "markdown",
   "metadata": {},
   "source": [
    "Cool, now we have a model that we can work with. \n",
    "\n",
    "One quick note here. Although we already specified pollingplace inside of INSTALLED APPS to test our HTML HTTP Response, a more specified way to tell the base app(polls) specific info about other apps, we should add the full dot seperated path to the `pollingplace` app file. \n",
    "\n",
    "To do this we simply replace `pollingplace` with `pollingplace.apps.PollingplaceConfig`. \n",
    "\n",
    "We could have gotten away with just using `pollingplace` but the best practice here is to use the full dot seperated path when available inside of INSTALLED_APPS."
   ]
  },
  {
   "cell_type": "markdown",
   "metadata": {},
   "source": [
    "##### Now lets create a migration for pollingplace.\n"
   ]
  },
  {
   "cell_type": "code",
   "execution_count": null,
   "metadata": {
    "collapsed": true
   },
   "outputs": [],
   "source": [
    "# Inside of the command prompt type the following command\n",
    "\n",
    "python manage.py makemigrations pollingplace\n",
    "\n",
    "\n",
    "'''\n",
    "The above code should give an output like this:\n",
    "\n",
    "Migrations for 'pollingplace':\n",
    "  pollingplace\\migrations\\0001_initial.py\n",
    "    - Create model Choice\n",
    "    - Create model Question\n",
    "    - Add field question to choice\n",
    "\n",
    "'''"
   ]
  },
  {
   "cell_type": "markdown",
   "metadata": {},
   "source": [
    "#### Let's checkout what we just created under the hood in SQL"
   ]
  },
  {
   "cell_type": "code",
   "execution_count": null,
   "metadata": {
    "collapsed": false
   },
   "outputs": [],
   "source": [
    "''' Running the following command will show you the full execution of what we just created \n",
    "and what will happen when we decide to migrate our current model '''\n",
    "\n",
    "# python manage.py sqlmigrate pollingplace 0001\n",
    "\n",
    "'''\n",
    "The result should be:\n",
    "\n",
    "BEGIN;\n",
    "--\n",
    "-- Create model Choice\n",
    "--\n",
    "CREATE TABLE \"pollingplace_choice\" (\"id\" serial NOT NULL PRIMARY KEY, \"choice_text\" varchar(200) NOT NULL, \"votes\" integer NOT NULL);\n",
    "--\n",
    "-- Create model Question\n",
    "--\n",
    "CREATE TABLE \"pollingplace_question\" (\"id\" serial NOT NULL PRIMARY KEY, \"question_text\" varchar(200) NOT NULL, \"pub_date\" timestamp with time zone NOT NULL);\n",
    "--\n",
    "-- Add field question to choice\n",
    "--\n",
    "ALTER TABLE \"pollingplace_choice\" ADD COLUMN \"question_id\" integer NOT NULL;\n",
    "CREATE INDEX \"pollingplace_choice_question_id_9dc0773f\" ON \"pollingplace_choice\" (\"question_id\");\n",
    "ALTER TABLE \"pollingplace_choice\" ADD CONSTRAINT \"pollingplace_choice_question_id_9dc0773f_fk_pollingpl\" FOREIGN KEY (\"question_id\") REFERENCES \"pollingplace_question\" (\"id\") DEFERRABLE INITIALLY DEFERRED;\n",
    "COMMIT;\n",
    "'''"
   ]
  },
  {
   "cell_type": "markdown",
   "metadata": {},
   "source": [
    "So basically what we just did was create a migration which then perfoms a transaction for our database. Hopefully you remember transactions and how useful they are, but if not...the main takeaway here is that if something happens to go wrong while this transaction(migration) is happening, everything will stop and the database won't be effected."
   ]
  },
  {
   "cell_type": "markdown",
   "metadata": {},
   "source": [
    "Dope!! So now let's migrate this over and then start playing around with the admin backend of our app."
   ]
  },
  {
   "cell_type": "markdown",
   "metadata": {},
   "source": [
    "### BUT FIRST.....\n",
    "\n",
    "We need to create a superuser for the admin panel. We can accomplish this using the following syntax:\n",
    "\n",
    "    python manage.py createsuperuser\n",
    "    \n",
    "You should then be asked for to create a username, give an email, and create a password.\n",
    "\n",
    "Once you have created this user account you will need to run the server again...this time navigating to `localhost:8000/admin`\n",
    "\n",
    "Once there, go ahead and sign in with the newly created user account. "
   ]
  }
 ],
 "metadata": {
  "kernelspec": {
   "display_name": "Python 3",
   "language": "python",
   "name": "python3"
  },
  "language_info": {
   "codemirror_mode": {
    "name": "ipython",
    "version": 3
   },
   "file_extension": ".py",
   "mimetype": "text/x-python",
   "name": "python",
   "nbconvert_exporter": "python",
   "pygments_lexer": "ipython3",
   "version": "3.6.0"
  }
 },
 "nbformat": 4,
 "nbformat_minor": 2
}

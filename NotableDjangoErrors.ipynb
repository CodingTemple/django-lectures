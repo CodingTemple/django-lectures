{
 "cells": [
  {
   "cell_type": "markdown",
   "metadata": {},
   "source": [
    "# Notable Django Errors\n",
    "\n",
    "    could not connect to server: Connection refused (0x0000274D/10061)\n",
    "        Is the server running on host \"localhost\" (127.0.0.1) and accepting\n",
    "        TCP/IP connections on port 5432?\n",
    "        \n",
    "The above error happens when you do not have a connection to your database server. In this case, my app is trying to connect to my localhost server...but it hasn't been set up yet."
   ]
  }
 ],
 "metadata": {
  "kernelspec": {
   "display_name": "Python 3",
   "language": "python",
   "name": "python3"
  },
  "language_info": {
   "codemirror_mode": {
    "name": "ipython",
    "version": 3
   },
   "file_extension": ".py",
   "mimetype": "text/x-python",
   "name": "python",
   "nbconvert_exporter": "python",
   "pygments_lexer": "ipython3",
   "version": "3.6.0"
  }
 },
 "nbformat": 4,
 "nbformat_minor": 2
}

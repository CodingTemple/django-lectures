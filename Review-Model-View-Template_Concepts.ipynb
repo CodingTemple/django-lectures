{
 "cells": [
  {
   "cell_type": "markdown",
   "metadata": {},
   "source": [
    "# Review of Django Model, View, Template Concept"
   ]
  },
  {
   "cell_type": "markdown",
   "metadata": {},
   "source": [
    "![MVT Diagram](https://res.cloudinary.com/carter3689/image/upload/v1496173347/django_mvt_funlge.png)"
   ]
  },
  {
   "cell_type": "markdown",
   "metadata": {},
   "source": [
    "## Models"
   ]
  },
  {
   "cell_type": "markdown",
   "metadata": {},
   "source": [
    "In Django, Models allow us to create classes that will then become our tables in a database. You have your choice of many database backends, but we've been using PostgreSQL. Our models and database are very hand-in-hand and we use migrations to do the heavy SQL syntax lifting for us. \n",
    "\n",
    "## Migrations\n",
    "When we make a migration, we are essentially creating a file that maps our table contents in an Object Oriented way. These files can be found in the `migrations` folder, once you have created a migration of course. **Note **These files can be edited as well . If you somehow make a mistake in a future migration, you can roll back a migration by simply using a previous migration\n",
    "\n",
    "For example:\n",
    "    Say I have two migrations (0001-initial.py and 0002-update.py) and I realized that I added a field inside a model that I didn't want. I can roll back to the first migration by giving the `migrate` keyword the name of the previous migration (0001-initial.py in this case). This revert the database back to it's previous state and you can add/remove to it as necessary. "
   ]
  },
  {
   "cell_type": "markdown",
   "metadata": {},
   "source": [
    "## Views"
   ]
  },
  {
   "cell_type": "markdown",
   "metadata": {},
   "source": [
    "Views are what allow us access to the models that we have created in our project. Gathering data from the database happens when we execute what is known in Django as a **QuerySet**. A **QuerySet** can gather ALL (e.g. Bears.objects.all()) of the contents of a specific table column, it can gather the data and filter it (e.g. `Bears.objects.filter(name='Poppa') #We only want to bring back the name of the bear Poppa in this case`) or Order the results in a certain fashion (e.g `Presidents.objects.order_by('first_name') # This gives us back the first_name of our presidents in alphabetical order`)\n",
    "\n",
    "Views are where most of our python code will be written because this is where a large part of our logic will live. To re-introduce the views concept we will start by talking about the most basic of django views...the function based view.\n",
    "\n",
    "## Function Based Views\n",
    "\n",
    "Function Based Views are views that have been written in the \"python function\" format. These views are the entry point to learning about Django's View system and this is what we created last week with our Polls app (at the beginning). If you recall, these views are a bit longer to write, but give the best understanding of how things should fit together. To recap what a view looks like, let's look at some code:"
   ]
  },
  {
   "cell_type": "code",
   "execution_count": null,
   "metadata": {
    "collapsed": false
   },
   "outputs": [],
   "source": [
    "# from django.http import HttpResponse\n",
    "def index(request):\n",
    "    return HttpResponse(\"Hi My Name is...\")\n",
    "\n",
    "\"\"\" \n",
    "This will return to the page the string 'Hi My Name is...' to the front end when a particular url route is given using this view\n",
    "\"\"\"\n",
    "\n",
    "######## Another Example of a View ############\n",
    "#from django.shortcuts import render\n",
    "def index(request):\n",
    "    webpage_list = AccessRecord.objects.order_by('date')\n",
    "    date_dict = {'access_records': webpage_list}\n",
    "\n",
    "        return render(request,'prework_app/index.html',{context=date_dict} )\n",
    "\n",
    "\"\"\"This index view gathers access_record information from my database and displays that to the index.html page\n",
    "    \n",
    "    A few things to point out here are:\n",
    "        the use of the render() method\n",
    "        what render expects to be passed to it \n",
    "\"\"\""
   ]
  },
  {
   "cell_type": "markdown",
   "metadata": {},
   "source": [
    "In the second view example, we gather our data from our database placing that into a webpage_list variable and then passing that to a dictionary so that when we call render to display our data to our index.html page...we can pass it to the context Keyword argument that expects to receive a dictionary. \n",
    "\n",
    "The request passed in, doesn't neccesarily need to be called 'request' persay. This however is the Django naming convention as far as the syntax is concerned. The request parameter when coupled with the render() method attempts to bring back some sort of contextual information so that it can be used by the template afterwards.\n",
    "\n",
    "This contextual information is what should be passed to 'context' as a dictonary. Once we have the context, we can then display the info on the html with template tags (e.g. {% for in access_records %})"
   ]
  },
  {
   "cell_type": "markdown",
   "metadata": {},
   "source": [
    "## Class based Views"
   ]
  },
  {
   "cell_type": "markdown",
   "metadata": {},
   "source": [
    "Class Based Views are the more common of the view types and alot easier to work with mainly because of the way Django Class Based Views inherit from some of the django modules.\n",
    "\n",
    "The four Classed Based Views (or CBVs) are :\n",
    "- View\n",
    "- TemplateView\n",
    "- DetailView\n",
    "- ListView\n",
    "\n",
    "Another nice feature of Class based views is, we can handle HTTP responses in a much cleaner fashion. For example, let's say we wanted to find out if someone is sending a POST request to our database from a form in our project. \n",
    "\n",
    "This is what we would have to write for a function based view:"
   ]
  },
  {
   "cell_type": "code",
   "execution_count": null,
   "metadata": {
    "collapsed": true
   },
   "outputs": [],
   "source": [
    "#from django.http import HttpResponse\n",
    "def some_view(request):\n",
    "    if request.method == 'POST':\n",
    "        #POST something to our DB\n",
    "        return HttpResponse('Your Request was POSTED')"
   ]
  },
  {
   "cell_type": "markdown",
   "metadata": {},
   "source": [
    "**If we were using a Class Based View though... **"
   ]
  },
  {
   "cell_type": "code",
   "execution_count": null,
   "metadata": {
    "collapsed": true
   },
   "outputs": [],
   "source": [
    "#from django.http import HttpResponse\n",
    "#from django.views import View\n",
    "\n",
    "class some_view(View):\n",
    "    def post(self,request):\n",
    "        #POST something to our DB\n",
    "        return HttpResponse('Your Request was POSTED')"
   ]
  },
  {
   "cell_type": "markdown",
   "metadata": {},
   "source": [
    "Though this example has the same amount of lines of code, the modularity here is much different. In the function view, we would have to use a bunch of if/else statements to get our desired result. Plus, this wouldn't really scale well if we wanted to reuse this function for a different outcome (e.g POSTing to a different location).\n",
    "\n",
    "On the other hand, we can reuse this class based view. This could be reused in a different part of our application much easier because of inheritence. \n",
    "\n",
    "With these benefits we also have some extra goodies that come with Class Based Views. These namely come frome the **TemplateView, DetailView, and the ListView**."
   ]
  },
  {
   "cell_type": "markdown",
   "metadata": {},
   "source": [
    "#### Here's an example of each"
   ]
  },
  {
   "cell_type": "code",
   "execution_count": null,
   "metadata": {
    "collapsed": true
   },
   "outputs": [],
   "source": [
    "#TemplateView\n",
    "\n",
    "class IndexView(TemplateView):\n",
    "    template_name = 'prework_app/index.html'\n",
    "\n",
    "    def get_context_data(self, **kwargs):\n",
    "        context = super().get_context_data(**kwargs)\n",
    "        context['injectme'] = 'Basic Injection' #name='Joel Carter\n",
    "        return context\n",
    "    \n",
    "    \n",
    "#HTML\n",
    "\n",
    "    \n",
    "#List View\n",
    "    \n",
    "class UserView(ListView):\n",
    "    context_object_name = 'users'\n",
    "    model = models.Users\n",
    "    # The ListView by default will create a context_list dictionary which lowercases the model.\n",
    "    # So when the above Users model comes back to the front end it is callable by a different name\n",
    "    # That name is users_list\n",
    "    \n",
    "# Detail View\n",
    "\n",
    "class PresidentView(DetailView):\n",
    "    model = models.Presidents\n",
    "    \n",
    "    #The DetailView by default will create context which again lowercases the model.\n",
    "    #When we want to call this model on the front end, we call it by calling on presidents\n"
   ]
  },
  {
   "cell_type": "markdown",
   "metadata": {},
   "source": [
    "## Side Note about *args and **kwargs\n",
    "\n",
    "To help explain this a bit better I found some more documentation while searching the interwebs of stack overflow.\n",
    "\n",
    "SO...\n",
    "\n",
    "The *args allows you to create a function that accepts any number of arguments when you don't **really** know how many the user may pass in. These args get passed in sort of like a tuple.\n",
    "\n",
    "The **kwargs allows you to let the user specify what they want to pass in and give the items a name. These get passed in as a sort of dictionary."
   ]
  },
  {
   "cell_type": "code",
   "execution_count": 6,
   "metadata": {
    "collapsed": false
   },
   "outputs": [
    {
     "name": "stdout",
     "output_type": "stream",
     "text": [
      "0. apple\n",
      "1. banana\n",
      "2. cabbage\n",
      "-------------\n",
      "apple = fruit\n",
      "cabbage = vegetable\n"
     ]
    }
   ],
   "source": [
    "# Helpful examples\n",
    "\n",
    "#########*args###########\n",
    "\n",
    "def print_everything(*args):\n",
    "        for count, thing in enumerate(args):\n",
    "         print( '{0}. {1}'.format(count, thing))\n",
    "        \n",
    "print_everything('apple', 'banana', 'cabbage')\n",
    "\n",
    "\n",
    "\n",
    "##########**kwargs##########\n",
    "\n",
    "def table_things(**kwargs):\n",
    "     for name, value in kwargs.items():\n",
    "        print( '{0} = {1}'.format(name, value))\n",
    "        \n",
    "        \n",
    "print(\"-------------\")        \n",
    "table_things(apple = 'fruit', cabbage = 'vegetable')\n"
   ]
  },
  {
   "cell_type": "markdown",
   "metadata": {},
   "source": [
    "## URLS"
   ]
  },
  {
   "cell_type": "markdown",
   "metadata": {},
   "source": [
    "The next critical step to using views is to wire them up to a url. We do this inside of our urls.py file and all of our urls should go inside of the urlpatterns list.\n",
    "\n",
    "When using class based views, we attach the views to a url in a slightly different way then we would a function based one."
   ]
  },
  {
   "cell_type": "code",
   "execution_count": null,
   "metadata": {
    "collapsed": true
   },
   "outputs": [],
   "source": [
    "#Here's how it's done:\n",
    "\n",
    "#urls.py\n",
    "\n",
    "#from prework_app import views\n",
    "urlpatterns = [\n",
    "    url(r'^$', views.UserView.as_view(template_name='prework_app/index.html'), name='index'),\n",
    "]\n",
    "\n",
    "\"\"\"This will map to the index page of our app. \"\"\""
   ]
  },
  {
   "cell_type": "markdown",
   "metadata": {},
   "source": [
    "## Templates\n",
    "\n",
    "From the url, we then get the data that we set up in our view, passed to our url, and the template then renders that and makes it uniform (pretty)."
   ]
  },
  {
   "cell_type": "code",
   "execution_count": null,
   "metadata": {
    "collapsed": true
   },
   "outputs": [],
   "source": [
    "<!DOCTYPE html>\n",
    "{% extends \"prework_app/base.html\" %}\n",
    "{% load staticfiles %}\n",
    "  {% block body_block %}\n",
    "    <h1>Hello how are you</h1>\n",
    "    <h2>Here's your data</h2>\n",
    "    {{injectme}}\n",
    "    <div class=\"djangotwo\">\n",
    "      {% if users_list %}\n",
    "        <table>\n",
    "          <thead>\n",
    "            <th>Site Name</th>\n",
    "            <th>Date Access</th>\n",
    "          </thead>\n",
    "          {% for user in users_list %}\n",
    "            <tr>\n",
    "              <td>{{user.name}}</td>\n",
    "              <td>{{user.email}}</td>\n",
    "            </tr>\n",
    "          {% endfor %}\n",
    "        </table>\n",
    "        {% else %}\n",
    "          <p>No Records Found</p>\n",
    "        {% endif %}\n",
    "    </div>\n",
    "    {% endblock %}"
   ]
  }
 ],
 "metadata": {
  "kernelspec": {
   "display_name": "Python 3",
   "language": "python",
   "name": "python3"
  },
  "language_info": {
   "codemirror_mode": {
    "name": "ipython",
    "version": 3
   },
   "file_extension": ".py",
   "mimetype": "text/x-python",
   "name": "python",
   "nbconvert_exporter": "python",
   "pygments_lexer": "ipython3",
   "version": "3.6.0"
  }
 },
 "nbformat": 4,
 "nbformat_minor": 2
}
